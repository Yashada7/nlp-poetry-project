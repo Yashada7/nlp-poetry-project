{
 "cells": [
  {
   "cell_type": "code",
   "execution_count": 6,
   "id": "216a6e0f-dcec-4026-b01f-a994ccb43cc5",
   "metadata": {},
   "outputs": [
    {
     "name": "stderr",
     "output_type": "stream",
     "text": [
      "[nltk_data] Downloading package punkt to\n",
      "[nltk_data]     C:\\Users\\Ajit\\AppData\\Roaming\\nltk_data...\n",
      "[nltk_data]   Package punkt is already up-to-date!\n"
     ]
    },
    {
     "data": {
      "text/plain": [
       "True"
      ]
     },
     "execution_count": 6,
     "metadata": {},
     "output_type": "execute_result"
    }
   ],
   "source": [
    "import pandas as pd\n",
    "import numpy as np\n",
    "import matplotlib.pyplot as plt\n",
    "import seaborn as sns\n",
    "import nltk\n",
    "nltk.download('punkt')"
   ]
  },
  {
   "cell_type": "code",
   "execution_count": 18,
   "id": "4bf80da2-e533-48ba-a195-81e936edf7de",
   "metadata": {},
   "outputs": [
    {
     "data": {
      "text/html": [
       "<div>\n",
       "<style scoped>\n",
       "    .dataframe tbody tr th:only-of-type {\n",
       "        vertical-align: middle;\n",
       "    }\n",
       "\n",
       "    .dataframe tbody tr th {\n",
       "        vertical-align: top;\n",
       "    }\n",
       "\n",
       "    .dataframe thead th {\n",
       "        text-align: right;\n",
       "    }\n",
       "</style>\n",
       "<table border=\"1\" class=\"dataframe\">\n",
       "  <thead>\n",
       "    <tr style=\"text-align: right;\">\n",
       "      <th></th>\n",
       "      <th>Title</th>\n",
       "      <th>Poet</th>\n",
       "      <th>Poem</th>\n",
       "      <th>Tags</th>\n",
       "      <th>Cleaned_Poem</th>\n",
       "      <th>Cleaned_Tags</th>\n",
       "    </tr>\n",
       "  </thead>\n",
       "  <tbody>\n",
       "    <tr>\n",
       "      <th>0</th>\n",
       "      <td>\\r\\r\\n                    Objects Used to Prop...</td>\n",
       "      <td>Michelle Menting</td>\n",
       "      <td>\\r\\r\\nDog bone, stapler,\\r\\r\\ncribbage board, ...</td>\n",
       "      <td>NaN</td>\n",
       "      <td>Dog bone, stapler, cribbage board, garlic pres...</td>\n",
       "      <td>[]</td>\n",
       "    </tr>\n",
       "    <tr>\n",
       "      <th>1</th>\n",
       "      <td>\\r\\r\\n                    The New Church\\r\\r\\n...</td>\n",
       "      <td>Lucia Cherciu</td>\n",
       "      <td>\\r\\r\\nThe old cupola glinted above the clouds,...</td>\n",
       "      <td>NaN</td>\n",
       "      <td>The old cupola glinted above the clouds, shone...</td>\n",
       "      <td>[]</td>\n",
       "    </tr>\n",
       "    <tr>\n",
       "      <th>2</th>\n",
       "      <td>\\r\\r\\n                    Look for Me\\r\\r\\n   ...</td>\n",
       "      <td>Ted Kooser</td>\n",
       "      <td>\\r\\r\\nLook for me under the hood\\r\\r\\nof that ...</td>\n",
       "      <td>NaN</td>\n",
       "      <td>Look for me under the hood of that old Chevrol...</td>\n",
       "      <td>[]</td>\n",
       "    </tr>\n",
       "    <tr>\n",
       "      <th>3</th>\n",
       "      <td>\\r\\r\\n                    Wild Life\\r\\r\\n     ...</td>\n",
       "      <td>Grace Cavalieri</td>\n",
       "      <td>\\r\\r\\nBehind the silo, the Mother Rabbit\\r\\r\\n...</td>\n",
       "      <td>NaN</td>\n",
       "      <td>Behind the silo, the Mother Rabbit hunches lik...</td>\n",
       "      <td>[]</td>\n",
       "    </tr>\n",
       "    <tr>\n",
       "      <th>4</th>\n",
       "      <td>\\r\\r\\n                    Umbrella\\r\\r\\n      ...</td>\n",
       "      <td>Connie Wanek</td>\n",
       "      <td>\\r\\r\\nWhen I push your button\\r\\r\\nyou fly off...</td>\n",
       "      <td>NaN</td>\n",
       "      <td>When I push your button you fly off the handle...</td>\n",
       "      <td>[]</td>\n",
       "    </tr>\n",
       "  </tbody>\n",
       "</table>\n",
       "</div>"
      ],
      "text/plain": [
       "                                               Title              Poet  \\\n",
       "0  \\r\\r\\n                    Objects Used to Prop...  Michelle Menting   \n",
       "1  \\r\\r\\n                    The New Church\\r\\r\\n...     Lucia Cherciu   \n",
       "2  \\r\\r\\n                    Look for Me\\r\\r\\n   ...        Ted Kooser   \n",
       "3  \\r\\r\\n                    Wild Life\\r\\r\\n     ...   Grace Cavalieri   \n",
       "4  \\r\\r\\n                    Umbrella\\r\\r\\n      ...      Connie Wanek   \n",
       "\n",
       "                                                Poem Tags  \\\n",
       "0  \\r\\r\\nDog bone, stapler,\\r\\r\\ncribbage board, ...  NaN   \n",
       "1  \\r\\r\\nThe old cupola glinted above the clouds,...  NaN   \n",
       "2  \\r\\r\\nLook for me under the hood\\r\\r\\nof that ...  NaN   \n",
       "3  \\r\\r\\nBehind the silo, the Mother Rabbit\\r\\r\\n...  NaN   \n",
       "4  \\r\\r\\nWhen I push your button\\r\\r\\nyou fly off...  NaN   \n",
       "\n",
       "                                        Cleaned_Poem Cleaned_Tags  \n",
       "0  Dog bone, stapler, cribbage board, garlic pres...           []  \n",
       "1  The old cupola glinted above the clouds, shone...           []  \n",
       "2  Look for me under the hood of that old Chevrol...           []  \n",
       "3  Behind the silo, the Mother Rabbit hunches lik...           []  \n",
       "4  When I push your button you fly off the handle...           []  "
      ]
     },
     "execution_count": 18,
     "metadata": {},
     "output_type": "execute_result"
    }
   ],
   "source": [
    "df = pd.read_csv(\"../data/processed/PoetryFoundationData_Cleaned.csv\")\n",
    "df.head()"
   ]
  },
  {
   "cell_type": "code",
   "execution_count": null,
   "id": "0df835bb-fe07-4ba7-be10-dc25a73f8a78",
   "metadata": {},
   "outputs": [],
   "source": []
  }
 ],
 "metadata": {
  "kernelspec": {
   "display_name": "Python 3 (ipykernel)",
   "language": "python",
   "name": "python3"
  },
  "language_info": {
   "codemirror_mode": {
    "name": "ipython",
    "version": 3
   },
   "file_extension": ".py",
   "mimetype": "text/x-python",
   "name": "python",
   "nbconvert_exporter": "python",
   "pygments_lexer": "ipython3",
   "version": "3.10.19"
  }
 },
 "nbformat": 4,
 "nbformat_minor": 5
}
